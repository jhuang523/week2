{
 "cells": [
  {
   "cell_type": "markdown",
   "metadata": {},
   "source": [
    "# 1d Array\n",
    "* Create a 1-dimensional NumPy array with elements [1, 2, 3, 4, 5, 6, 7, 8, 9, 10].\n",
    "* Calculate the sum and average of the array elements.\n",
    "* Multiply the array by a scalar value of 3.\n",
    "* Slice the array to select elements from the 3rd to the 7th position.\n",
    "* Compute the sum and average of the sliced array"
   ]
  },
  {
   "cell_type": "code",
   "execution_count": 49,
   "metadata": {},
   "outputs": [
    {
     "name": "stdout",
     "output_type": "stream",
     "text": [
      "[ 1  2  3  4  5  6  7  8  9 10]\n",
      "55\n",
      "5.5\n",
      "[ 3  6  9 12 15 18 21 24 27 30]\n",
      "[3 4 5 6 7]\n",
      "25\n",
      "5.0\n"
     ]
    }
   ],
   "source": [
    "import numpy as np\n",
    "\n",
    "arr = np.array([1, 2, 3, 4, 5, 6, 7, 8, 9, 10])\n",
    "arr_sum = np.sum(arr)\n",
    "arr_avg = np.average(arr)\n",
    "arr3 = np.multiply (3, arr)\n",
    "sliced_arr = arr[2:7]\n",
    "sliced_sum = np.sum(sliced_arr)\n",
    "sliced_avg = np.average(sliced_arr)\n",
    "\n",
    "print(arr)\n",
    "print(arr_sum)\n",
    "print(arr_avg)\n",
    "print (arr3)\n",
    "print(sliced_arr)\n",
    "print(sliced_sum)\n",
    "print(sliced_avg)"
   ]
  },
  {
   "cell_type": "markdown",
   "metadata": {},
   "source": [
    "# Multi-dimensional array\n",
    "* Create a 3x3 matrix with the following rows in order: {3,4,5} {6,7,8} {9,1,2}\n",
    "* Print the element in the second row, third column.\n",
    "* Print the second row\n",
    "* Print the second column\n",
    "* Compute the transpose of the matrix"
   ]
  },
  {
   "cell_type": "code",
   "execution_count": 50,
   "metadata": {},
   "outputs": [
    {
     "name": "stdout",
     "output_type": "stream",
     "text": [
      "8\n",
      "[[6 7 8]]\n",
      "[[4]\n",
      " [7]\n",
      " [1]]\n",
      "[[3 6 9]\n",
      " [4 7 1]\n",
      " [5 8 2]]\n"
     ]
    }
   ],
   "source": [
    "import numpy as np\n",
    "\n",
    "mat = np.matrix([[3,4,5],[6,7,8],[9,1,2]])\n",
    "print(mat[1,2])\n",
    "print(mat[1,])\n",
    "print(mat[:,1])\n",
    "trans = mat.transpose()\n",
    "print(trans)\n"
   ]
  },
  {
   "cell_type": "markdown",
   "metadata": {},
   "source": [
    "# Concatenation\n",
    "* Create two 1-d arrays: [5,1,4,2] and [6,10,11,7]\n",
    "* Concatenate the two arrays\n",
    "* Sort the new array from lowest to highest\n",
    "* Split the result from the previous step into two equal sized arrays"
   ]
  },
  {
   "cell_type": "code",
   "execution_count": 51,
   "metadata": {},
   "outputs": [
    {
     "name": "stdout",
     "output_type": "stream",
     "text": [
      "[ 5  1  4  2  6 10 11  7]\n",
      "[ 1  2  4  5  6  7 10 11]\n",
      "[array([1, 2, 4, 5]), array([ 6,  7, 10, 11])]\n"
     ]
    }
   ],
   "source": [
    "import numpy as np\n",
    "\n",
    "arr1 = np.array([5,1,4,2])\n",
    "arr2 = np.array([6,10,11,7])\n",
    "concat = np.concatenate([arr1,arr2])\n",
    "print(concat)\n",
    "sorted_concat = np.sort(concat)\n",
    "print(sorted_concat)\n",
    "split_arr = np.split(sorted_concat, 2)\n",
    "print(split_arr)\n",
    "\n"
   ]
  },
  {
   "cell_type": "markdown",
   "metadata": {},
   "source": [
    "# Mathematical functions\n",
    "* Create an array with values from 0 to 4*pi in increments of pi/2 (pi refers to the mathematical constant  π)\n",
    "* Compute an array that applies the mathematical sin function to the original array\n",
    "* Do the same for the following mathematical functions: cos, log, exp\n",
    "* Compute the mean, median, and standard deviation of each resultant array"
   ]
  },
  {
   "cell_type": "code",
   "execution_count": 80,
   "metadata": {},
   "outputs": [
    {
     "name": "stdout",
     "output_type": "stream",
     "text": [
      "pi array: [ 0.          1.57079633  3.14159265  4.71238898  6.28318531  7.85398163\n",
      "  9.42477796 10.99557429 12.56637061]\n",
      "mean: 6.283185307179587\n",
      "median: 6.283185307179586\n",
      "std dev: 4.055778675973612\n",
      "\n",
      "\n",
      "sin array: [ 0.0000000e+00  1.0000000e+00  1.2246468e-16 -1.0000000e+00\n",
      " -2.4492936e-16  1.0000000e+00  3.6739404e-16 -1.0000000e+00\n",
      " -4.8985872e-16]\n",
      "mean: -2.975712385932333e-17\n",
      "median: 0.0\n",
      "std dev: 0.6666666666666666\n",
      "\n",
      "\n",
      "cos array: [ 1.0000000e+00  6.1232340e-17 -1.0000000e+00 -1.8369702e-16\n",
      "  1.0000000e+00  3.0616170e-16 -1.0000000e+00 -4.2862638e-16\n",
      "  1.0000000e+00]\n",
      "mean: 0.11111111111111106\n",
      "median: 6.123233995736766e-17\n",
      "std dev: 0.7370277311900889\n",
      "\n",
      "\n",
      "log array: [      -inf 0.45158271 1.14472989 1.55019499 1.83787707 2.06102062\n",
      " 2.24334217 2.39749285 2.53102425]\n",
      "mean: 1.7771580681326111\n",
      "median: 1.9494488420664502\n",
      "std dev: 0.6579655683239043\n",
      "\n",
      "\n",
      "exp array: [1.00000000e+00 4.81047738e+00 2.31406926e+01 1.11317778e+02\n",
      " 5.35491656e+02 2.57597050e+03 1.23916478e+04 5.96097415e+04\n",
      " 2.86751313e+05]\n",
      "mean: 40222.7148375631\n",
      "median: 535.4916555247646\n",
      "std dev: 89056.36419225672\n",
      "\n",
      "\n"
     ]
    },
    {
     "name": "stderr",
     "output_type": "stream",
     "text": [
      "/var/folders/03/ncpt0f556jn9mwpykfyp_0rr0000gn/T/ipykernel_5266/3780062176.py:23: RuntimeWarning: divide by zero encountered in log\n",
      "  new_arr = np.append(new_arr, [fn(arr[i])])\n"
     ]
    }
   ],
   "source": [
    "import numpy as np\n",
    "import math\n",
    "\n",
    "def print_stats(arr, name):\n",
    "    print(f\"{name} array: {arr}\")\n",
    "    i = 0\n",
    "    while i < len(arr):  #take out undefined elements\n",
    "        if arr[i] == np.inf or arr[i] == -(np.inf) or arr[i] == np.nan:\n",
    "            arr = np.delete(arr, i)\n",
    "            continue\n",
    "        i+= 1\n",
    "    mean = np.average(arr)\n",
    "    median = np.median(arr)\n",
    "    std = np.std(arr)\n",
    "    print(f\"mean: {mean}\")\n",
    "    print(f\"median: {median}\")\n",
    "    print(f\"std dev: {std}\")\n",
    "    print(\"\\n\")\n",
    "\n",
    "def f_on_array (arr, fn): #performs function on elements in array and returns new array\n",
    "    new_arr = np.array([])\n",
    "    for i in range (len(arr)):\n",
    "        new_arr = np.append(new_arr, [fn(arr[i])])\n",
    "    return new_arr\n",
    "\n",
    "pi_arr = np.array([])\n",
    "for i in range (0, 9):\n",
    "    pi_arr = np.append(pi_arr, [i/2*math.pi])\n",
    "print_stats (pi_arr, \"pi\")\n",
    "\n",
    "sin_arr = f_on_array(pi_arr, np.sin)\n",
    "print_stats (sin_arr, \"sin\")\n",
    "\n",
    "cos_arr = f_on_array(pi_arr, np.cos)\n",
    "print_stats(cos_arr, \"cos\")\n",
    "\n",
    "log_arr = f_on_array(pi_arr, np.log)\n",
    "print_stats(log_arr, \"log\")\n",
    "\n",
    "exp_arr = f_on_array(pi_arr, np.exp)\n",
    "print_stats(exp_arr, \"exp\")\n",
    "    "
   ]
  },
  {
   "cell_type": "markdown",
   "metadata": {},
   "source": [
    "# Boolean Indexing and Filtering\n",
    "* Create a 1-d array with all multiples of 5 from 15 to 80, and also include 12\n",
    "* Create a boolean array that identifies elements which are greater than 25\n",
    "* Use that boolean array to filter out elements greater than 25 from the original array."
   ]
  },
  {
   "cell_type": "code",
   "execution_count": 53,
   "metadata": {},
   "outputs": [
    {
     "name": "stdout",
     "output_type": "stream",
     "text": [
      "[12 15 20 25 30 35 40 45 50 55 60 65 70 75 80]\n",
      "[False False False False  True  True  True  True  True  True  True  True\n",
      "  True  True  True]\n",
      "[30 35 40 45 50 55 60 65 70 75 80]\n"
     ]
    }
   ],
   "source": [
    "import numpy as np\n",
    "arr = np.array([12])\n",
    "for i in range (3, 17):\n",
    "    arr = np.append (arr, [i * 5])\n",
    "print (arr)\n",
    "bool_arr = np.array([x > 25 for x in arr])\n",
    "print(bool_arr)\n",
    "filtered = arr[bool_arr]\n",
    "print(filtered)"
   ]
  }
 ],
 "metadata": {
  "kernelspec": {
   "display_name": "Python 3",
   "language": "python",
   "name": "python3"
  },
  "language_info": {
   "codemirror_mode": {
    "name": "ipython",
    "version": 3
   },
   "file_extension": ".py",
   "mimetype": "text/x-python",
   "name": "python",
   "nbconvert_exporter": "python",
   "pygments_lexer": "ipython3",
   "version": "3.12.0"
  }
 },
 "nbformat": 4,
 "nbformat_minor": 2
}
