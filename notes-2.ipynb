{
 "cells": [
  {
   "cell_type": "markdown",
   "metadata": {},
   "source": [
    "# Object Oriented Programming/ Classes\n",
    "* Why use setters and getters? Protect variables and prevent unwanted changes to the variable "
   ]
  },
  {
   "cell_type": "code",
   "execution_count": 6,
   "metadata": {},
   "outputs": [
    {
     "name": "stdout",
     "output_type": "stream",
     "text": [
      "a\n",
      "b\n"
     ]
    }
   ],
   "source": [
    "class TestClass:\n",
    "    def __init__(self, var1, var2, var3):\n",
    "        self.__var1 = var1      #private variable -- cannot be accessed outside of class\n",
    "        self._var2 = var2   #read only but still accessible outside of class\n",
    "        self.var3 = var3\n",
    "    \n",
    "    @property #read only attribute\n",
    "    def var1(self):\n",
    "        return(self.__var1)   \n",
    "\n",
    "    @var1.setter #enables setting variable \n",
    "    def var1(self, val):\n",
    "        if val == \"a\":\n",
    "            raise Exception(\"Not this one!\")\n",
    "        self.__var1 = val\n",
    "\n",
    "\n",
    "test1 = TestClass(\"a\", \"b\", \"c\")\n",
    "print(test1.var1)\n",
    "test1.var1 = \"b\"\n",
    "print(test1.var1)"
   ]
  },
  {
   "cell_type": "markdown",
   "metadata": {},
   "source": []
  }
 ],
 "metadata": {
  "kernelspec": {
   "display_name": "Python 3",
   "language": "python",
   "name": "python3"
  },
  "language_info": {
   "codemirror_mode": {
    "name": "ipython",
    "version": 3
   },
   "file_extension": ".py",
   "mimetype": "text/x-python",
   "name": "python",
   "nbconvert_exporter": "python",
   "pygments_lexer": "ipython3",
   "version": "3.12.0"
  }
 },
 "nbformat": 4,
 "nbformat_minor": 2
}
